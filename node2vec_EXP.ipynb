{
 "cells": [
  {
   "cell_type": "code",
   "execution_count": 1,
   "metadata": {},
   "outputs": [],
   "source": [
    "%matplotlib inline\n",
    "\n",
    "import warnings\n",
    "from text_unidecode import unidecode\n",
    "from collections import deque\n",
    "warnings.filterwarnings('ignore')\n",
    "\n",
    "\n",
    "import pandas as pd\n",
    "from sklearn.manifold import TSNE\n",
    "import numpy as np\n",
    "import networkx as nx\n",
    "import matplotlib.pyplot as plt\n",
    "import matplotlib.patches as mpatches\n",
    "import seaborn as sns\n",
    "from node2vec import Node2Vec\n",
    "\n",
    "sns.set_style('whitegrid')"
   ]
  },
  {
   "cell_type": "code",
   "execution_count": null,
   "metadata": {},
   "outputs": [],
   "source": []
  },
  {
   "cell_type": "code",
   "execution_count": 2,
   "metadata": {},
   "outputs": [
    {
     "data": {
      "text/html": [
       "<div>\n",
       "<style scoped>\n",
       "    .dataframe tbody tr th:only-of-type {\n",
       "        vertical-align: middle;\n",
       "    }\n",
       "\n",
       "    .dataframe tbody tr th {\n",
       "        vertical-align: top;\n",
       "    }\n",
       "\n",
       "    .dataframe thead th {\n",
       "        text-align: right;\n",
       "    }\n",
       "</style>\n",
       "<table border=\"1\" class=\"dataframe\">\n",
       "  <thead>\n",
       "    <tr style=\"text-align: right;\">\n",
       "      <th></th>\n",
       "      <th>name</th>\n",
       "      <th>club</th>\n",
       "      <th>club_position</th>\n",
       "      <th>rating</th>\n",
       "    </tr>\n",
       "  </thead>\n",
       "  <tbody>\n",
       "    <tr>\n",
       "      <th>0</th>\n",
       "      <td>cristiano_ronaldo</td>\n",
       "      <td>real_madrid</td>\n",
       "      <td>lw</td>\n",
       "      <td>94</td>\n",
       "    </tr>\n",
       "    <tr>\n",
       "      <th>4</th>\n",
       "      <td>manuel_neuer</td>\n",
       "      <td>fc_bayern</td>\n",
       "      <td>gk</td>\n",
       "      <td>92</td>\n",
       "    </tr>\n",
       "    <tr>\n",
       "      <th>5</th>\n",
       "      <td>de_gea</td>\n",
       "      <td>manchester_utd</td>\n",
       "      <td>gk</td>\n",
       "      <td>90</td>\n",
       "    </tr>\n",
       "    <tr>\n",
       "      <th>6</th>\n",
       "      <td>robert_lewandowski</td>\n",
       "      <td>fc_bayern</td>\n",
       "      <td>st</td>\n",
       "      <td>90</td>\n",
       "    </tr>\n",
       "    <tr>\n",
       "      <th>7</th>\n",
       "      <td>gareth_bale</td>\n",
       "      <td>real_madrid</td>\n",
       "      <td>rw</td>\n",
       "      <td>90</td>\n",
       "    </tr>\n",
       "  </tbody>\n",
       "</table>\n",
       "</div>"
      ],
      "text/plain": [
       "                 name            club club_position  rating\n",
       "0   cristiano_ronaldo     real_madrid            lw      94\n",
       "4        manuel_neuer       fc_bayern            gk      92\n",
       "5              de_gea  manchester_utd            gk      90\n",
       "6  robert_lewandowski       fc_bayern            st      90\n",
       "7         gareth_bale     real_madrid            rw      90"
      ]
     },
     "execution_count": 2,
     "metadata": {},
     "output_type": "execute_result"
    }
   ],
   "source": [
    "# Load data \n",
    "data = pd.read_csv('./FullData.csv', usecols=['Name', 'Club', 'Club_Position', 'Rating'])\n",
    "\n",
    "# Lowercase columns for convenience\n",
    "data.columns = list(map(str.lower, data.columns))\n",
    "\n",
    "# Reformat strings: lowercase, ' ' -> '_' and é, ô etc. -> e, o\n",
    "reformat_string = lambda x: unidecode(str.lower(x).replace(' ', '_'))\n",
    "    \n",
    "data['name'] = data['name'].apply(reformat_string)\n",
    "data['club'] = data['club'].apply(reformat_string)\n",
    "\n",
    "# Lowercase position\n",
    "data['club_position'] = data['club_position'].str.lower()\n",
    "\n",
    "# Ignore substitutes and reserves \n",
    "data = data[(data['club_position'] != 'sub') & (data['club_position'] != 'res')]\n",
    "\n",
    "# Fix lcm rcm -> cm cm\n",
    "fix_positions = {'rcm' : 'cm', 'lcm': 'cm', 'rcb': 'cb', 'lcb': 'cb', 'ldm': 'cdm', 'rdm': 'cdm'}\n",
    "data['club_position'] = data['club_position'].apply(lambda x: fix_positions.get(x, x))\n",
    "\n",
    "# For example sake we will keep only 7 clubs\n",
    "clubs = {'real_madrid', 'manchester_utd', \n",
    "         'manchester_city', 'chelsea', 'juventus', \n",
    "         'fc_bayern', 'napoli'}\n",
    "\n",
    "data = data[data['club'].isin(clubs)]\n",
    "\n",
    "\n",
    "# Verify we have 11 player for each team\n",
    "assert all(n_players == 11 for n_players in data.groupby('club')['name'].nunique())\n",
    "\n",
    "data.head()"
   ]
  },
  {
   "cell_type": "code",
   "execution_count": 4,
   "metadata": {},
   "outputs": [
    {
     "data": {
      "text/plain": [
       "(77, 4)"
      ]
     },
     "execution_count": 4,
     "metadata": {},
     "output_type": "execute_result"
    }
   ],
   "source": [
    "data.shape"
   ]
  },
  {
   "cell_type": "code",
   "execution_count": 17,
   "metadata": {},
   "outputs": [],
   "source": [
    "data.to_csv(path_or_buf='fifa_data.csv')"
   ]
  },
  {
   "cell_type": "code",
   "execution_count": 5,
   "metadata": {},
   "outputs": [],
   "source": [
    "FORMATIONS = {'4-3-3_4': {'gk': ['cb_1', 'cb_2'],                           # Real madrid\n",
    "                          'lb': ['lw', 'cb_1', 'cm_1'],\n",
    "                          'cb_1': ['lb', 'cb_2', 'gk'],\n",
    "                          'cb_2': ['rb', 'cb_1', 'gk'],\n",
    "                          'rb': ['rw', 'cb_2', 'cm_2'],\n",
    "                          'cm_1': ['cam', 'lw', 'cb_1', 'lb'],\n",
    "                          'cm_2': ['cam', 'rw', 'cb_2', 'rb'],\n",
    "                          'cam': ['cm_1', 'cm_2', 'st'],\n",
    "                          'lw': ['cm_1', 'lb', 'st'],\n",
    "                          'rw': ['cm_2', 'rb', 'st'],\n",
    "                          'st': ['cam', 'lw', 'rw']},\n",
    "              '5-2-2-1': {'gk': ['cb_1', 'cb_2', 'cb_3'],                   # Chelsea\n",
    "                          'cb_1': ['gk', 'cb_2', 'lwb'],\n",
    "                          'cb_2': ['gk', 'cb_1', 'cb_3', 'cm_1', 'cb_2'],\n",
    "                          'cb_3': ['gk', 'cb_2', 'rwb'],\n",
    "                          'lwb': ['cb_1', 'cm_1', 'lw'],\n",
    "                          'cm_1': ['lwb', 'cb_2', 'cm_2', 'lw', 'st'],\n",
    "                          'cm_2': ['rwb', 'cb_2', 'cm_1', 'rw', 'st'],\n",
    "                          'rwb': ['cb_3', 'cm_2', 'rw'],\n",
    "                          'lw': ['lwb', 'cm_1', 'st'],\n",
    "                          'st': ['lw', 'cm_1', 'cm_2', 'rw'],\n",
    "                          'rw': ['st', 'rwb', 'cm_2']},\n",
    "              '4-3-3_2': {'gk': ['cb_1', 'cb_2'],                           # Man UTD / CITY\n",
    "                          'lb': ['cb_1', 'cm_1'],\n",
    "                          'cb_1': ['lb', 'cb_2', 'gk', 'cdm'],\n",
    "                          'cb_2': ['rb', 'cb_1', 'gk', 'cdm'],\n",
    "                          'rb': ['cb_2', 'cm_2'],\n",
    "                          'cm_1': ['cdm', 'lw', 'lb', 'st'],\n",
    "                          'cm_2': ['cdm', 'rw', 'st', 'rb'],\n",
    "                          'cdm': ['cm_1', 'cm_2', 'cb_1', 'cb_2'],\n",
    "                          'lw': ['cm_1', 'st'],\n",
    "                          'rw': ['cm_2', 'st'],\n",
    "                          'st': ['cm_1', 'cm_2', 'lw', 'rw']},              # Juventus, Bayern\n",
    "              '4-2-3-1_2': {'gk': ['cb_1', 'cb_2'],\n",
    "                            'lb': ['lm', 'cdm_1', 'cb_1'],\n",
    "                            'cb_1': ['lb', 'cdm_1', 'gk', 'cb_2'],\n",
    "                            'cb_2': ['rb', 'cdm_2', 'gk', 'cb_1'],\n",
    "                            'rb': ['cb_2', 'rm', 'cdm_2'],\n",
    "                            'lm': ['lb', 'cdm_1', 'st', 'cam'],\n",
    "                            'rm': ['rb', 'cdm_2', 'st', 'cam'],\n",
    "                            'cdm_1': ['lm', 'cb_1', 'rb', 'cam'],\n",
    "                            'cdm_2': ['rm', 'cb_2', 'lb', 'cam'],\n",
    "                            'cam': ['cdm_1', 'cdm_2', 'rm', 'lm', 'st'],\n",
    "                            'st': ['lm', 'rm', 'cam']},\n",
    "              '4-3-3': {'gk': ['cb_1', 'cb_2'],                             # Napoli\n",
    "                        'lb': ['cb_1', 'cm_1'],\n",
    "                        'cb_1': ['lb', 'cb_2', 'gk', 'cm_2'],\n",
    "                        'cb_2': ['rb', 'cb_1', 'gk', 'cm_2'],\n",
    "                        'rb': ['cb_2', 'cm_3'],\n",
    "                        'cm_1': ['cm_2', 'lw', 'lb'],\n",
    "                        'cm_3': ['cm_2', 'rw', 'rb'],\n",
    "                        'cm_2': ['cm_1', 'cm_3', 'st', 'cb_1', 'cb_2'],\n",
    "                        'lw': ['cm_1', 'st'],\n",
    "                        'rw': ['cm_3', 'st'],\n",
    "                        'st': ['cm_2', 'lw', 'rw']}}"
   ]
  },
  {
   "cell_type": "code",
   "execution_count": null,
   "metadata": {},
   "outputs": [],
   "source": []
  },
  {
   "cell_type": "code",
   "execution_count": 12,
   "metadata": {},
   "outputs": [],
   "source": [
    "add_club_suffix = lambda x, c: x + '_{}'.format(c)\n",
    "\n",
    "graph = nx.Graph()\n",
    "formatted_positions = set()\n",
    "\n",
    "def club2graph(club_name, formation, graph):\n",
    "    \n",
    "    print('graph:',graph)\n",
    "    \n",
    "    club_data = data[data['club'] == club_name]\n",
    "    \n",
    "    print('club_data:',club_data)\n",
    "    \n",
    "    club_formation = FORMATIONS[formation]\n",
    "    \n",
    "    print('club_formation: ',club_formation)\n",
    "    \n",
    "    club_positions = dict()\n",
    "    \n",
    "    # Assign positions to players\n",
    "    available_positions = deque(club_formation)\n",
    "    print('available_positions: ',available_positions)\n",
    "    \n",
    "    available_players = set(zip(club_data['name'], club_data['club_position']))\n",
    "    print('available_players: ',available_players)\n",
    "    \n",
    "    roster = dict()  # Here we will store the assigned players and positions\n",
    "    \n",
    "    while available_positions:\n",
    "        position = available_positions.pop()\n",
    "        name, pos = [(name, position) for name, p in available_players if position.startswith(p)][0]        \n",
    "        \n",
    "        roster[name] = pos\n",
    "        \n",
    "        available_players.remove((name, pos.split('_')[0]))\n",
    "        \n",
    "    reverse_roster = {v: k for k, v in roster.items()}\n",
    "        \n",
    "    # Build the graph\n",
    "    for name, position in roster.items():\n",
    "        # Connect to team name\n",
    "        graph.add_edge(name, club_name)\n",
    "        \n",
    "        # Inter team connections\n",
    "        for teammate_position in club_formation[position]:\n",
    "            # Connect positions\n",
    "            graph.add_edge(add_club_suffix(position, club_name),\n",
    "                           add_club_suffix(teammate_position, club_name))\n",
    "            \n",
    "            # Connect player to teammate positions\n",
    "            graph.add_edge(name,\n",
    "                           add_club_suffix(teammate_position, club_name))\n",
    "            \n",
    "            # Connect player to teammates\n",
    "            graph.add_edge(name, reverse_roster[teammate_position])\n",
    "            \n",
    "            # Save for later trimming\n",
    "            formatted_positions.add(add_club_suffix(position, club_name))\n",
    "            formatted_positions.add(add_club_suffix(teammate_position, club_name))\n",
    "            \n",
    "    return graph"
   ]
  },
  {
   "cell_type": "code",
   "execution_count": null,
   "metadata": {},
   "outputs": [],
   "source": []
  },
  {
   "cell_type": "code",
   "execution_count": 13,
   "metadata": {},
   "outputs": [],
   "source": [
    "teams = [('real_madrid', '4-3-3_4'), \n",
    "         ('chelsea', '5-2-2-1'),\n",
    "         ('manchester_utd', '4-3-3_2'),\n",
    "         ('manchester_city', '4-3-3_2'),\n",
    "         ('juventus', '4-2-3-1_2'),\n",
    "         ('fc_bayern', '4-2-3-1_2'),\n",
    "         ('napoli', '4-3-3')]"
   ]
  },
  {
   "cell_type": "code",
   "execution_count": 14,
   "metadata": {},
   "outputs": [
    {
     "data": {
      "text/plain": [
       "[('real_madrid', '4-3-3_4'),\n",
       " ('chelsea', '5-2-2-1'),\n",
       " ('manchester_utd', '4-3-3_2'),\n",
       " ('manchester_city', '4-3-3_2'),\n",
       " ('juventus', '4-2-3-1_2'),\n",
       " ('fc_bayern', '4-2-3-1_2'),\n",
       " ('napoli', '4-3-3')]"
      ]
     },
     "execution_count": 14,
     "metadata": {},
     "output_type": "execute_result"
    }
   ],
   "source": [
    "teams"
   ]
  },
  {
   "cell_type": "code",
   "execution_count": 15,
   "metadata": {},
   "outputs": [
    {
     "name": "stdout",
     "output_type": "stream",
     "text": [
      "graph: \n",
      "club_data:                  name         club club_position  rating\n",
      "0   cristiano_ronaldo  real_madrid            lw      94\n",
      "7         gareth_bale  real_madrid            rw      90\n",
      "12        luka_modric  real_madrid            cm      89\n",
      "16       sergio_ramos  real_madrid            cb      89\n",
      "23         toni_kroos  real_madrid            cm      88\n",
      "29               pepe  real_madrid            cb      88\n",
      "34    james_rodriguez  real_madrid           cam      87\n",
      "57            marcelo  real_madrid            lb      86\n",
      "60      karim_benzema  real_madrid            st      86\n",
      "67       keylor_navas  real_madrid            gk      85\n",
      "87           carvajal  real_madrid            rb      84\n",
      "club_formation:  {'gk': ['cb_1', 'cb_2'], 'lb': ['lw', 'cb_1', 'cm_1'], 'cb_1': ['lb', 'cb_2', 'gk'], 'cb_2': ['rb', 'cb_1', 'gk'], 'rb': ['rw', 'cb_2', 'cm_2'], 'cm_1': ['cam', 'lw', 'cb_1', 'lb'], 'cm_2': ['cam', 'rw', 'cb_2', 'rb'], 'cam': ['cm_1', 'cm_2', 'st'], 'lw': ['cm_1', 'lb', 'st'], 'rw': ['cm_2', 'rb', 'st'], 'st': ['cam', 'lw', 'rw']}\n",
      "available_positions:  deque(['gk', 'lb', 'cb_1', 'cb_2', 'rb', 'cm_1', 'cm_2', 'cam', 'lw', 'rw', 'st'])\n",
      "available_players:  {('gareth_bale', 'rw'), ('james_rodriguez', 'cam'), ('marcelo', 'lb'), ('toni_kroos', 'cm'), ('cristiano_ronaldo', 'lw'), ('luka_modric', 'cm'), ('carvajal', 'rb'), ('pepe', 'cb'), ('sergio_ramos', 'cb'), ('keylor_navas', 'gk'), ('karim_benzema', 'st')}\n",
      "graph: \n",
      "club_data:                  name         club club_position  rating\n",
      "0   cristiano_ronaldo  real_madrid            lw      94\n",
      "7         gareth_bale  real_madrid            rw      90\n",
      "12        luka_modric  real_madrid            cm      89\n",
      "16       sergio_ramos  real_madrid            cb      89\n",
      "23         toni_kroos  real_madrid            cm      88\n",
      "29               pepe  real_madrid            cb      88\n",
      "34    james_rodriguez  real_madrid           cam      87\n",
      "57            marcelo  real_madrid            lb      86\n",
      "60      karim_benzema  real_madrid            st      86\n",
      "67       keylor_navas  real_madrid            gk      85\n",
      "87           carvajal  real_madrid            rb      84\n",
      "club_formation:  {'gk': ['cb_1', 'cb_2'], 'lb': ['lw', 'cb_1', 'cm_1'], 'cb_1': ['lb', 'cb_2', 'gk'], 'cb_2': ['rb', 'cb_1', 'gk'], 'rb': ['rw', 'cb_2', 'cm_2'], 'cm_1': ['cam', 'lw', 'cb_1', 'lb'], 'cm_2': ['cam', 'rw', 'cb_2', 'rb'], 'cam': ['cm_1', 'cm_2', 'st'], 'lw': ['cm_1', 'lb', 'st'], 'rw': ['cm_2', 'rb', 'st'], 'st': ['cam', 'lw', 'rw']}\n",
      "available_positions:  deque(['gk', 'lb', 'cb_1', 'cb_2', 'rb', 'cm_1', 'cm_2', 'cam', 'lw', 'rw', 'st'])\n",
      "available_players:  {('gareth_bale', 'rw'), ('james_rodriguez', 'cam'), ('marcelo', 'lb'), ('toni_kroos', 'cm'), ('cristiano_ronaldo', 'lw'), ('luka_modric', 'cm'), ('carvajal', 'rb'), ('pepe', 'cb'), ('sergio_ramos', 'cb'), ('keylor_navas', 'gk'), ('karim_benzema', 'st')}\n",
      "graph: \n",
      "club_data:                  name     club club_position  rating\n",
      "9    thibaut_courtois  chelsea            gk      89\n",
      "11        eden_hazard  chelsea            lw      89\n",
      "54        diego_costa  chelsea            st      86\n",
      "98      nemanja_matic  chelsea            cm      84\n",
      "106        david_luiz  chelsea            cb      84\n",
      "121      n'golo_kante  chelsea            cm      83\n",
      "148             pedro  chelsea            rw      83\n",
      "158       azpilicueta  chelsea            cb      83\n",
      "177       gary_cahill  chelsea            cb      83\n",
      "615     marcos_alonso  chelsea           lwb      79\n",
      "850      victor_moses  chelsea           rwb      78\n",
      "club_formation:  {'gk': ['cb_1', 'cb_2', 'cb_3'], 'cb_1': ['gk', 'cb_2', 'lwb'], 'cb_2': ['gk', 'cb_1', 'cb_3', 'cm_1', 'cb_2'], 'cb_3': ['gk', 'cb_2', 'rwb'], 'lwb': ['cb_1', 'cm_1', 'lw'], 'cm_1': ['lwb', 'cb_2', 'cm_2', 'lw', 'st'], 'cm_2': ['rwb', 'cb_2', 'cm_1', 'rw', 'st'], 'rwb': ['cb_3', 'cm_2', 'rw'], 'lw': ['lwb', 'cm_1', 'st'], 'st': ['lw', 'cm_1', 'cm_2', 'rw'], 'rw': ['st', 'rwb', 'cm_2']}\n",
      "available_positions:  deque(['gk', 'cb_1', 'cb_2', 'cb_3', 'lwb', 'cm_1', 'cm_2', 'rwb', 'lw', 'st', 'rw'])\n",
      "available_players:  {(\"n'golo_kante\", 'cm'), ('victor_moses', 'rwb'), ('nemanja_matic', 'cm'), ('pedro', 'rw'), ('david_luiz', 'cb'), ('eden_hazard', 'lw'), ('thibaut_courtois', 'gk'), ('azpilicueta', 'cb'), ('gary_cahill', 'cb'), ('marcos_alonso', 'lwb'), ('diego_costa', 'st')}\n",
      "graph: \n",
      "club_data:                    name            club club_position  rating\n",
      "5                de_gea  manchester_utd            gk      90\n",
      "8    zlatan_ibrahimovic  manchester_utd            st      90\n",
      "18           paul_pogba  manchester_utd            cm      88\n",
      "46   henrikh_mkhitaryan  manchester_utd            rw      86\n",
      "119         eric_bailly  manchester_utd            cb      83\n",
      "145       ander_herrera  manchester_utd            cm      83\n",
      "147      chris_smalling  manchester_utd            cb      83\n",
      "196     anthony_martial  manchester_utd            lw      82\n",
      "259    antonio_valencia  manchester_utd            rb      82\n",
      "285     michael_carrick  manchester_utd           cdm      82\n",
      "322         daley_blind  manchester_utd            lb      81\n",
      "club_formation:  {'gk': ['cb_1', 'cb_2'], 'lb': ['cb_1', 'cm_1'], 'cb_1': ['lb', 'cb_2', 'gk', 'cdm'], 'cb_2': ['rb', 'cb_1', 'gk', 'cdm'], 'rb': ['cb_2', 'cm_2'], 'cm_1': ['cdm', 'lw', 'lb', 'st'], 'cm_2': ['cdm', 'rw', 'st', 'rb'], 'cdm': ['cm_1', 'cm_2', 'cb_1', 'cb_2'], 'lw': ['cm_1', 'st'], 'rw': ['cm_2', 'st'], 'st': ['cm_1', 'cm_2', 'lw', 'rw']}\n",
      "available_positions:  deque(['gk', 'lb', 'cb_1', 'cb_2', 'rb', 'cm_1', 'cm_2', 'cdm', 'lw', 'rw', 'st'])\n",
      "available_players:  {('chris_smalling', 'cb'), ('anthony_martial', 'lw'), ('michael_carrick', 'cdm'), ('daley_blind', 'lb'), ('zlatan_ibrahimovic', 'st'), ('henrikh_mkhitaryan', 'rw'), ('eric_bailly', 'cb'), ('ander_herrera', 'cm'), ('paul_pogba', 'cm'), ('antonio_valencia', 'rb'), ('de_gea', 'gk')}\n",
      "graph: \n",
      "club_data:                  name             club club_position  rating\n",
      "17      sergio_aguero  manchester_city            st      89\n",
      "20    kevin_de_bruyne  manchester_city            cm      88\n",
      "39        david_silva  manchester_city            cm      87\n",
      "96   nicolas_otamendi  manchester_city            cb      84\n",
      "118        yaya_toure  manchester_city           cdm      84\n",
      "129   raheem_sterling  manchester_city            rw      83\n",
      "365      bacary_sagna  manchester_city            rb      81\n",
      "389        leroy_sane  manchester_city            lw      80\n",
      "573       john_stones  manchester_city            cb      80\n",
      "687       gael_clichy  manchester_city            lb      79\n",
      "892   willy_caballero  manchester_city            gk      78\n",
      "club_formation:  {'gk': ['cb_1', 'cb_2'], 'lb': ['cb_1', 'cm_1'], 'cb_1': ['lb', 'cb_2', 'gk', 'cdm'], 'cb_2': ['rb', 'cb_1', 'gk', 'cdm'], 'rb': ['cb_2', 'cm_2'], 'cm_1': ['cdm', 'lw', 'lb', 'st'], 'cm_2': ['cdm', 'rw', 'st', 'rb'], 'cdm': ['cm_1', 'cm_2', 'cb_1', 'cb_2'], 'lw': ['cm_1', 'st'], 'rw': ['cm_2', 'st'], 'st': ['cm_1', 'cm_2', 'lw', 'rw']}\n",
      "available_positions:  deque(['gk', 'lb', 'cb_1', 'cb_2', 'rb', 'cm_1', 'cm_2', 'cdm', 'lw', 'rw', 'st'])\n",
      "available_players:  {('kevin_de_bruyne', 'cm'), ('gael_clichy', 'lb'), ('john_stones', 'cb'), ('sergio_aguero', 'st'), ('raheem_sterling', 'rw'), ('yaya_toure', 'cdm'), ('willy_caballero', 'gk'), ('leroy_sane', 'lw'), ('bacary_sagna', 'rb'), ('david_silva', 'cm'), ('nicolas_otamendi', 'cb')}\n",
      "graph: \n",
      "club_data:                      name      club club_position  rating\n",
      "14        gonzalo_higuain  juventus            st      89\n",
      "27      giorgio_chiellini  juventus            cb      88\n",
      "31       gianluigi_buffon  juventus            gk      88\n",
      "36       leonardo_bonucci  juventus            cb      87\n",
      "43           paulo_dybala  juventus           cam      86\n",
      "73         miralem_pjanic  juventus           cdm      85\n",
      "99            alex_sandro  juventus            lb      84\n",
      "107          sami_khedira  juventus           cdm      84\n",
      "141         juan_cuadrado  juventus            rm      83\n",
      "161       mario_mandzukic  juventus            lm      83\n",
      "187  stephan_lichtsteiner  juventus            rb      83\n",
      "club_formation:  {'gk': ['cb_1', 'cb_2'], 'lb': ['lm', 'cdm_1', 'cb_1'], 'cb_1': ['lb', 'cdm_1', 'gk', 'cb_2'], 'cb_2': ['rb', 'cdm_2', 'gk', 'cb_1'], 'rb': ['cb_2', 'rm', 'cdm_2'], 'lm': ['lb', 'cdm_1', 'st', 'cam'], 'rm': ['rb', 'cdm_2', 'st', 'cam'], 'cdm_1': ['lm', 'cb_1', 'rb', 'cam'], 'cdm_2': ['rm', 'cb_2', 'lb', 'cam'], 'cam': ['cdm_1', 'cdm_2', 'rm', 'lm', 'st'], 'st': ['lm', 'rm', 'cam']}\n",
      "available_positions:  deque(['gk', 'lb', 'cb_1', 'cb_2', 'rb', 'lm', 'rm', 'cdm_1', 'cdm_2', 'cam', 'st'])\n",
      "available_players:  {('miralem_pjanic', 'cdm'), ('gonzalo_higuain', 'st'), ('gianluigi_buffon', 'gk'), ('alex_sandro', 'lb'), ('paulo_dybala', 'cam'), ('giorgio_chiellini', 'cb'), ('leonardo_bonucci', 'cb'), ('juan_cuadrado', 'rm'), ('stephan_lichtsteiner', 'rb'), ('mario_mandzukic', 'lm'), ('sami_khedira', 'cdm')}\n",
      "graph: \n",
      "club_data:                    name       club club_position  rating\n",
      "4          manuel_neuer  fc_bayern            gk      92\n",
      "6    robert_lewandowski  fc_bayern            st      90\n",
      "25         mats_hummels  fc_bayern            cb      88\n",
      "28         philipp_lahm  fc_bayern            rb      88\n",
      "37         arturo_vidal  fc_bayern           cdm      87\n",
      "42         arjen_robben  fc_bayern            rm      87\n",
      "45          david_alaba  fc_bayern            lb      86\n",
      "48        thomas_muller  fc_bayern           cam      86\n",
      "50               thiago  fc_bayern           cdm      86\n",
      "75        javi_martinez  fc_bayern            cb      85\n",
      "101       douglas_costa  fc_bayern            lm      84\n",
      "club_formation:  {'gk': ['cb_1', 'cb_2'], 'lb': ['lm', 'cdm_1', 'cb_1'], 'cb_1': ['lb', 'cdm_1', 'gk', 'cb_2'], 'cb_2': ['rb', 'cdm_2', 'gk', 'cb_1'], 'rb': ['cb_2', 'rm', 'cdm_2'], 'lm': ['lb', 'cdm_1', 'st', 'cam'], 'rm': ['rb', 'cdm_2', 'st', 'cam'], 'cdm_1': ['lm', 'cb_1', 'rb', 'cam'], 'cdm_2': ['rm', 'cb_2', 'lb', 'cam'], 'cam': ['cdm_1', 'cdm_2', 'rm', 'lm', 'st'], 'st': ['lm', 'rm', 'cam']}\n",
      "available_positions:  deque(['gk', 'lb', 'cb_1', 'cb_2', 'rb', 'lm', 'rm', 'cdm_1', 'cdm_2', 'cam', 'st'])\n",
      "available_players:  {('thiago', 'cdm'), ('manuel_neuer', 'gk'), ('david_alaba', 'lb'), ('arturo_vidal', 'cdm'), ('javi_martinez', 'cb'), ('mats_hummels', 'cb'), ('arjen_robben', 'rm'), ('thomas_muller', 'cam'), ('philipp_lahm', 'rb'), ('douglas_costa', 'lm'), ('robert_lewandowski', 'st')}\n",
      "graph: \n",
      "club_data:                    name    club club_position  rating\n",
      "77        dries_mertens  napoli            st      85\n",
      "79         marek_hamsik  napoli            cm      85\n",
      "91      lorenzo_insigne  napoli            lw      84\n",
      "133   kalidou_koulibaly  napoli            cb      83\n",
      "156       jose_callejon  napoli            rw      83\n",
      "190          jose_reina  napoli            gk      83\n",
      "270         raul_albiol  napoli            cb      82\n",
      "551        elseid_hysaj  napoli            rb      79\n",
      "554     piotr_zielinski  napoli            cm      79\n",
      "585      faouzi_ghoulam  napoli            lb      79\n",
      "1206     amadou_diawara  napoli            cm      76\n",
      "club_formation:  {'gk': ['cb_1', 'cb_2'], 'lb': ['cb_1', 'cm_1'], 'cb_1': ['lb', 'cb_2', 'gk', 'cm_2'], 'cb_2': ['rb', 'cb_1', 'gk', 'cm_2'], 'rb': ['cb_2', 'cm_3'], 'cm_1': ['cm_2', 'lw', 'lb'], 'cm_3': ['cm_2', 'rw', 'rb'], 'cm_2': ['cm_1', 'cm_3', 'st', 'cb_1', 'cb_2'], 'lw': ['cm_1', 'st'], 'rw': ['cm_3', 'st'], 'st': ['cm_2', 'lw', 'rw']}\n",
      "available_positions:  deque(['gk', 'lb', 'cb_1', 'cb_2', 'rb', 'cm_1', 'cm_3', 'cm_2', 'lw', 'rw', 'st'])\n",
      "available_players:  {('marek_hamsik', 'cm'), ('jose_callejon', 'rw'), ('faouzi_ghoulam', 'lb'), ('raul_albiol', 'cb'), ('jose_reina', 'gk'), ('piotr_zielinski', 'cm'), ('lorenzo_insigne', 'lw'), ('kalidou_koulibaly', 'cb'), ('elseid_hysaj', 'rb'), ('amadou_diawara', 'cm'), ('dries_mertens', 'st')}\n"
     ]
    }
   ],
   "source": [
    "graph = club2graph('real_madrid', '4-3-3_4', graph)\n",
    "\n",
    "for team, formation in teams:\n",
    "    graph = club2graph(team, formation, graph)"
   ]
  },
  {
   "cell_type": "code",
   "execution_count": 34,
   "metadata": {},
   "outputs": [],
   "source": [
    "from pprint import pprint"
   ]
  },
  {
   "cell_type": "code",
   "execution_count": 26,
   "metadata": {},
   "outputs": [
    {
     "data": {
      "text/plain": [
       "(161, 597, 597, dict_values([]))"
      ]
     },
     "execution_count": 26,
     "metadata": {},
     "output_type": "execute_result"
    }
   ],
   "source": [
    "graph.number_of_nodes(),graph.number_of_edges(),graph.size(),"
   ]
  },
  {
   "cell_type": "code",
   "execution_count": 36,
   "metadata": {},
   "outputs": [
    {
     "name": "stdout",
     "output_type": "stream",
     "text": [
      "['karim_benzema', 'real_madrid', 'st_real_madrid', 'cam_real_madrid', 'james_rodriguez', 'lw_real_madrid', 'cristiano_ronaldo', 'rw_real_madrid', 'gareth_bale', 'cm_2_real_madrid', 'toni_kroos', 'rb_real_madrid', 'carvajal', 'cm_1_real_madrid', 'luka_modric', 'lb_real_madrid', 'marcelo', 'cb_2_real_madrid', 'pepe', 'cb_1_real_madrid', 'sergio_ramos', 'gk_real_madrid', 'keylor_navas', 'pedro', 'chelsea', 'rw_chelsea', 'st_chelsea', 'diego_costa', 'rwb_chelsea', 'victor_moses', 'cm_2_chelsea', \"n'golo_kante\", 'lw_chelsea', 'eden_hazard', 'cm_1_chelsea', 'nemanja_matic', 'lwb_chelsea', 'marcos_alonso', 'cb_3_chelsea', 'david_luiz', 'cb_2_chelsea', 'azpilicueta', 'cb_1_chelsea', 'gary_cahill', 'gk_chelsea', 'thibaut_courtois', 'zlatan_ibrahimovic', 'manchester_utd', 'st_manchester_utd', 'cm_1_manchester_utd', 'paul_pogba', 'cm_2_manchester_utd', 'ander_herrera', 'lw_manchester_utd', 'anthony_martial', 'rw_manchester_utd', 'henrikh_mkhitaryan', 'michael_carrick', 'cdm_manchester_utd', 'cb_1_manchester_utd', 'eric_bailly', 'cb_2_manchester_utd', 'chris_smalling', 'rb_manchester_utd', 'antonio_valencia', 'lb_manchester_utd', 'daley_blind', 'gk_manchester_utd', 'de_gea', 'sergio_aguero', 'manchester_city', 'st_manchester_city', 'cm_1_manchester_city', 'david_silva', 'cm_2_manchester_city', 'kevin_de_bruyne', 'lw_manchester_city', 'leroy_sane', 'rw_manchester_city', 'raheem_sterling', 'yaya_toure', 'cdm_manchester_city', 'cb_1_manchester_city', 'nicolas_otamendi', 'cb_2_manchester_city', 'john_stones', 'rb_manchester_city', 'bacary_sagna', 'lb_manchester_city', 'gael_clichy', 'gk_manchester_city', 'willy_caballero', 'gonzalo_higuain', 'juventus', 'st_juventus', 'lm_juventus', 'mario_mandzukic', 'rm_juventus', 'juan_cuadrado', 'cam_juventus', 'paulo_dybala', 'cdm_1_juventus', 'sami_khedira', 'cdm_2_juventus', 'miralem_pjanic', 'cb_2_juventus', 'giorgio_chiellini', 'lb_juventus', 'alex_sandro', 'cb_1_juventus', 'leonardo_bonucci', 'rb_juventus', 'stephan_lichtsteiner', 'gk_juventus', 'gianluigi_buffon', 'robert_lewandowski', 'fc_bayern', 'st_fc_bayern', 'lm_fc_bayern', 'douglas_costa', 'rm_fc_bayern', 'arjen_robben', 'cam_fc_bayern', 'thomas_muller', 'cdm_1_fc_bayern', 'arturo_vidal', 'cdm_2_fc_bayern', 'thiago', 'cb_2_fc_bayern', 'javi_martinez', 'lb_fc_bayern', 'david_alaba', 'cb_1_fc_bayern', 'mats_hummels', 'rb_fc_bayern', 'philipp_lahm', 'gk_fc_bayern', 'manuel_neuer', 'dries_mertens', 'napoli', 'st_napoli', 'cm_2_napoli', 'marek_hamsik', 'lw_napoli', 'lorenzo_insigne', 'rw_napoli', 'jose_callejon', 'cm_3_napoli', 'piotr_zielinski', 'cm_1_napoli', 'amadou_diawara', 'cb_1_napoli', 'kalidou_koulibaly', 'cb_2_napoli', 'raul_albiol', 'rb_napoli', 'elseid_hysaj', 'lb_napoli', 'faouzi_ghoulam', 'gk_napoli', 'jose_reina']\n"
     ]
    }
   ],
   "source": [
    "all_nodes = []\n",
    "for node in graph.nodes:\n",
    "    all_nodes.append(node)\n",
    "    #print(node)\n",
    "    \n",
    "print(all_nodes)"
   ]
  },
  {
   "cell_type": "code",
   "execution_count": 38,
   "metadata": {},
   "outputs": [
    {
     "name": "stdout",
     "output_type": "stream",
     "text": [
      "[('karim_benzema', 'real_madrid'), ('karim_benzema', 'cam_real_madrid'), ('karim_benzema', 'james_rodriguez'), ('karim_benzema', 'lw_real_madrid'), ('karim_benzema', 'cristiano_ronaldo'), ('karim_benzema', 'rw_real_madrid'), ('karim_benzema', 'gareth_bale'), ('real_madrid', 'gareth_bale'), ('real_madrid', 'cristiano_ronaldo'), ('real_madrid', 'james_rodriguez'), ('real_madrid', 'toni_kroos'), ('real_madrid', 'luka_modric'), ('real_madrid', 'carvajal'), ('real_madrid', 'pepe'), ('real_madrid', 'sergio_ramos'), ('real_madrid', 'marcelo'), ('real_madrid', 'keylor_navas'), ('st_real_madrid', 'cam_real_madrid'), ('st_real_madrid', 'lw_real_madrid'), ('st_real_madrid', 'rw_real_madrid'), ('st_real_madrid', 'gareth_bale'), ('st_real_madrid', 'cristiano_ronaldo'), ('st_real_madrid', 'james_rodriguez'), ('cam_real_madrid', 'cm_1_real_madrid'), ('cam_real_madrid', 'cm_2_real_madrid'), ('cam_real_madrid', 'toni_kroos'), ('cam_real_madrid', 'luka_modric'), ('james_rodriguez', 'cm_1_real_madrid'), ('james_rodriguez', 'luka_modric'), ('james_rodriguez', 'cm_2_real_madrid'), ('james_rodriguez', 'toni_kroos'), ('lw_real_madrid', 'cm_1_real_madrid'), ('lw_real_madrid', 'lb_real_madrid'), ('lw_real_madrid', 'luka_modric'), ('lw_real_madrid', 'marcelo'), ('cristiano_ronaldo', 'cm_1_real_madrid'), ('cristiano_ronaldo', 'luka_modric'), ('cristiano_ronaldo', 'lb_real_madrid'), ('cristiano_ronaldo', 'marcelo'), ('rw_real_madrid', 'cm_2_real_madrid'), ('rw_real_madrid', 'rb_real_madrid'), ('rw_real_madrid', 'toni_kroos'), ('rw_real_madrid', 'carvajal'), ('gareth_bale', 'cm_2_real_madrid'), ('gareth_bale', 'toni_kroos'), ('gareth_bale', 'rb_real_madrid'), ('gareth_bale', 'carvajal'), ('cm_2_real_madrid', 'cb_2_real_madrid'), ('cm_2_real_madrid', 'rb_real_madrid'), ('cm_2_real_madrid', 'carvajal'), ('toni_kroos', 'cb_2_real_madrid'), ('toni_kroos', 'pepe'), ('toni_kroos', 'rb_real_madrid'), ('toni_kroos', 'carvajal'), ('rb_real_madrid', 'cb_2_real_madrid'), ('rb_real_madrid', 'pepe'), ('carvajal', 'cb_2_real_madrid'), ('carvajal', 'pepe'), ('cm_1_real_madrid', 'cb_1_real_madrid'), ('cm_1_real_madrid', 'lb_real_madrid'), ('cm_1_real_madrid', 'marcelo'), ('luka_modric', 'cb_1_real_madrid'), ('luka_modric', 'sergio_ramos'), ('luka_modric', 'lb_real_madrid'), ('luka_modric', 'marcelo'), ('lb_real_madrid', 'cb_1_real_madrid'), ('lb_real_madrid', 'sergio_ramos'), ('marcelo', 'sergio_ramos'), ('marcelo', 'cb_1_real_madrid'), ('cb_2_real_madrid', 'cb_1_real_madrid'), ('cb_2_real_madrid', 'gk_real_madrid'), ('cb_2_real_madrid', 'sergio_ramos'), ('cb_2_real_madrid', 'keylor_navas'), ('pepe', 'cb_1_real_madrid'), ('pepe', 'sergio_ramos'), ('pepe', 'gk_real_madrid'), ('pepe', 'keylor_navas'), ('cb_1_real_madrid', 'gk_real_madrid'), ('cb_1_real_madrid', 'keylor_navas'), ('sergio_ramos', 'gk_real_madrid'), ('sergio_ramos', 'keylor_navas'), ('pedro', 'chelsea'), ('pedro', 'st_chelsea'), ('pedro', 'diego_costa'), ('pedro', 'rwb_chelsea'), ('pedro', 'victor_moses'), ('pedro', 'cm_2_chelsea'), ('pedro', \"n'golo_kante\"), ('chelsea', 'diego_costa'), ('chelsea', 'eden_hazard'), ('chelsea', 'victor_moses'), ('chelsea', \"n'golo_kante\"), ('chelsea', 'nemanja_matic'), ('chelsea', 'marcos_alonso'), ('chelsea', 'david_luiz'), ('chelsea', 'azpilicueta'), ('chelsea', 'gary_cahill'), ('chelsea', 'thibaut_courtois'), ('rw_chelsea', 'st_chelsea'), ('rw_chelsea', 'rwb_chelsea'), ('rw_chelsea', 'cm_2_chelsea'), ('rw_chelsea', 'diego_costa'), ('rw_chelsea', 'victor_moses'), ('rw_chelsea', \"n'golo_kante\"), ('st_chelsea', 'lw_chelsea'), ('st_chelsea', 'cm_1_chelsea'), ('st_chelsea', 'cm_2_chelsea'), ('st_chelsea', 'eden_hazard'), ('st_chelsea', \"n'golo_kante\"), ('st_chelsea', 'nemanja_matic'), ('diego_costa', 'lw_chelsea'), ('diego_costa', 'eden_hazard'), ('diego_costa', 'cm_1_chelsea'), ('diego_costa', 'nemanja_matic'), ('diego_costa', 'cm_2_chelsea'), ('diego_costa', \"n'golo_kante\"), ('rwb_chelsea', 'cb_3_chelsea'), ('rwb_chelsea', 'cm_2_chelsea'), ('rwb_chelsea', \"n'golo_kante\"), ('rwb_chelsea', 'david_luiz'), ('victor_moses', 'cb_3_chelsea'), ('victor_moses', 'david_luiz'), ('victor_moses', 'cm_2_chelsea'), ('victor_moses', \"n'golo_kante\"), ('cm_2_chelsea', 'cb_2_chelsea'), ('cm_2_chelsea', 'cm_1_chelsea'), ('cm_2_chelsea', 'nemanja_matic'), (\"n'golo_kante\", 'cb_2_chelsea'), (\"n'golo_kante\", 'azpilicueta'), (\"n'golo_kante\", 'cm_1_chelsea'), (\"n'golo_kante\", 'nemanja_matic'), ('lw_chelsea', 'lwb_chelsea'), ('lw_chelsea', 'cm_1_chelsea'), ('lw_chelsea', 'nemanja_matic'), ('lw_chelsea', 'marcos_alonso'), ('eden_hazard', 'lwb_chelsea'), ('eden_hazard', 'marcos_alonso'), ('eden_hazard', 'cm_1_chelsea'), ('eden_hazard', 'nemanja_matic'), ('cm_1_chelsea', 'lwb_chelsea'), ('cm_1_chelsea', 'cb_2_chelsea'), ('cm_1_chelsea', 'marcos_alonso'), ('cm_1_chelsea', 'azpilicueta'), ('nemanja_matic', 'lwb_chelsea'), ('nemanja_matic', 'marcos_alonso'), ('nemanja_matic', 'cb_2_chelsea'), ('nemanja_matic', 'azpilicueta'), ('lwb_chelsea', 'cb_1_chelsea'), ('lwb_chelsea', 'gary_cahill'), ('marcos_alonso', 'cb_1_chelsea'), ('marcos_alonso', 'gary_cahill'), ('cb_3_chelsea', 'gk_chelsea'), ('cb_3_chelsea', 'cb_2_chelsea'), ('cb_3_chelsea', 'azpilicueta'), ('cb_3_chelsea', 'thibaut_courtois'), ('david_luiz', 'gk_chelsea'), ('david_luiz', 'thibaut_courtois'), ('david_luiz', 'cb_2_chelsea'), ('david_luiz', 'azpilicueta'), ('cb_2_chelsea', 'gk_chelsea'), ('cb_2_chelsea', 'cb_1_chelsea'), ('cb_2_chelsea', 'cb_2_chelsea'), ('cb_2_chelsea', 'azpilicueta'), ('cb_2_chelsea', 'gary_cahill'), ('cb_2_chelsea', 'thibaut_courtois'), ('azpilicueta', 'gk_chelsea'), ('azpilicueta', 'thibaut_courtois'), ('azpilicueta', 'cb_1_chelsea'), ('azpilicueta', 'gary_cahill'), ('azpilicueta', 'azpilicueta'), ('cb_1_chelsea', 'gk_chelsea'), ('cb_1_chelsea', 'thibaut_courtois'), ('gary_cahill', 'gk_chelsea'), ('gary_cahill', 'thibaut_courtois'), ('zlatan_ibrahimovic', 'manchester_utd'), ('zlatan_ibrahimovic', 'cm_1_manchester_utd'), ('zlatan_ibrahimovic', 'paul_pogba'), ('zlatan_ibrahimovic', 'cm_2_manchester_utd'), ('zlatan_ibrahimovic', 'ander_herrera'), ('zlatan_ibrahimovic', 'lw_manchester_utd'), ('zlatan_ibrahimovic', 'anthony_martial'), ('zlatan_ibrahimovic', 'rw_manchester_utd'), ('zlatan_ibrahimovic', 'henrikh_mkhitaryan'), ('manchester_utd', 'henrikh_mkhitaryan'), ('manchester_utd', 'anthony_martial'), ('manchester_utd', 'michael_carrick'), ('manchester_utd', 'ander_herrera'), ('manchester_utd', 'paul_pogba'), ('manchester_utd', 'antonio_valencia'), ('manchester_utd', 'chris_smalling'), ('manchester_utd', 'eric_bailly'), ('manchester_utd', 'daley_blind'), ('manchester_utd', 'de_gea'), ('st_manchester_utd', 'cm_1_manchester_utd'), ('st_manchester_utd', 'cm_2_manchester_utd'), ('st_manchester_utd', 'lw_manchester_utd'), ('st_manchester_utd', 'rw_manchester_utd'), ('st_manchester_utd', 'henrikh_mkhitaryan'), ('st_manchester_utd', 'anthony_martial'), ('st_manchester_utd', 'ander_herrera'), ('st_manchester_utd', 'paul_pogba'), ('cm_1_manchester_utd', 'lw_manchester_utd'), ('cm_1_manchester_utd', 'anthony_martial'), ('cm_1_manchester_utd', 'cdm_manchester_utd'), ('cm_1_manchester_utd', 'michael_carrick'), ('cm_1_manchester_utd', 'lb_manchester_utd'), ('cm_1_manchester_utd', 'daley_blind'), ('paul_pogba', 'anthony_martial'), ('paul_pogba', 'michael_carrick'), ('paul_pogba', 'cdm_manchester_utd'), ('paul_pogba', 'lw_manchester_utd'), ('paul_pogba', 'lb_manchester_utd'), ('paul_pogba', 'daley_blind'), ('cm_2_manchester_utd', 'rw_manchester_utd'), ('cm_2_manchester_utd', 'henrikh_mkhitaryan'), ('cm_2_manchester_utd', 'cdm_manchester_utd'), ('cm_2_manchester_utd', 'michael_carrick'), ('cm_2_manchester_utd', 'rb_manchester_utd'), ('cm_2_manchester_utd', 'antonio_valencia'), ('ander_herrera', 'henrikh_mkhitaryan'), ('ander_herrera', 'michael_carrick'), ('ander_herrera', 'cdm_manchester_utd'), ('ander_herrera', 'rw_manchester_utd'), ('ander_herrera', 'rb_manchester_utd'), ('ander_herrera', 'antonio_valencia'), ('michael_carrick', 'cb_1_manchester_utd'), ('michael_carrick', 'eric_bailly'), ('michael_carrick', 'cb_2_manchester_utd'), ('michael_carrick', 'chris_smalling'), ('cdm_manchester_utd', 'cb_1_manchester_utd'), ('cdm_manchester_utd', 'cb_2_manchester_utd'), ('cdm_manchester_utd', 'chris_smalling'), ('cdm_manchester_utd', 'eric_bailly'), ('cb_1_manchester_utd', 'cb_2_manchester_utd'), ('cb_1_manchester_utd', 'chris_smalling'), ('cb_1_manchester_utd', 'lb_manchester_utd'), ('cb_1_manchester_utd', 'gk_manchester_utd'), ('cb_1_manchester_utd', 'daley_blind'), ('cb_1_manchester_utd', 'de_gea'), ('eric_bailly', 'chris_smalling'), ('eric_bailly', 'lb_manchester_utd'), ('eric_bailly', 'daley_blind'), ('eric_bailly', 'cb_2_manchester_utd'), ('eric_bailly', 'gk_manchester_utd'), ('eric_bailly', 'de_gea'), ('cb_2_manchester_utd', 'rb_manchester_utd'), ('cb_2_manchester_utd', 'antonio_valencia'), ('cb_2_manchester_utd', 'gk_manchester_utd'), ('cb_2_manchester_utd', 'de_gea'), ('chris_smalling', 'antonio_valencia'), ('chris_smalling', 'rb_manchester_utd'), ('chris_smalling', 'gk_manchester_utd'), ('chris_smalling', 'de_gea'), ('sergio_aguero', 'manchester_city'), ('sergio_aguero', 'cm_1_manchester_city'), ('sergio_aguero', 'david_silva'), ('sergio_aguero', 'cm_2_manchester_city'), ('sergio_aguero', 'kevin_de_bruyne'), ('sergio_aguero', 'lw_manchester_city'), ('sergio_aguero', 'leroy_sane'), ('sergio_aguero', 'rw_manchester_city'), ('sergio_aguero', 'raheem_sterling'), ('manchester_city', 'raheem_sterling'), ('manchester_city', 'leroy_sane'), ('manchester_city', 'yaya_toure'), ('manchester_city', 'kevin_de_bruyne'), ('manchester_city', 'david_silva'), ('manchester_city', 'bacary_sagna'), ('manchester_city', 'john_stones'), ('manchester_city', 'nicolas_otamendi'), ('manchester_city', 'gael_clichy'), ('manchester_city', 'willy_caballero'), ('st_manchester_city', 'cm_1_manchester_city'), ('st_manchester_city', 'cm_2_manchester_city'), ('st_manchester_city', 'lw_manchester_city'), ('st_manchester_city', 'rw_manchester_city'), ('st_manchester_city', 'raheem_sterling'), ('st_manchester_city', 'leroy_sane'), ('st_manchester_city', 'kevin_de_bruyne'), ('st_manchester_city', 'david_silva'), ('cm_1_manchester_city', 'lw_manchester_city'), ('cm_1_manchester_city', 'leroy_sane'), ('cm_1_manchester_city', 'cdm_manchester_city'), ('cm_1_manchester_city', 'yaya_toure'), ('cm_1_manchester_city', 'lb_manchester_city'), ('cm_1_manchester_city', 'gael_clichy'), ('david_silva', 'leroy_sane'), ('david_silva', 'yaya_toure'), ('david_silva', 'cdm_manchester_city'), ('david_silva', 'lw_manchester_city'), ('david_silva', 'lb_manchester_city'), ('david_silva', 'gael_clichy'), ('cm_2_manchester_city', 'rw_manchester_city'), ('cm_2_manchester_city', 'raheem_sterling'), ('cm_2_manchester_city', 'cdm_manchester_city'), ('cm_2_manchester_city', 'yaya_toure'), ('cm_2_manchester_city', 'rb_manchester_city'), ('cm_2_manchester_city', 'bacary_sagna'), ('kevin_de_bruyne', 'raheem_sterling'), ('kevin_de_bruyne', 'yaya_toure'), ('kevin_de_bruyne', 'cdm_manchester_city'), ('kevin_de_bruyne', 'rw_manchester_city'), ('kevin_de_bruyne', 'rb_manchester_city'), ('kevin_de_bruyne', 'bacary_sagna'), ('yaya_toure', 'cb_1_manchester_city'), ('yaya_toure', 'nicolas_otamendi'), ('yaya_toure', 'cb_2_manchester_city'), ('yaya_toure', 'john_stones'), ('cdm_manchester_city', 'cb_1_manchester_city'), ('cdm_manchester_city', 'cb_2_manchester_city'), ('cdm_manchester_city', 'john_stones'), ('cdm_manchester_city', 'nicolas_otamendi'), ('cb_1_manchester_city', 'cb_2_manchester_city'), ('cb_1_manchester_city', 'john_stones'), ('cb_1_manchester_city', 'lb_manchester_city'), ('cb_1_manchester_city', 'gk_manchester_city'), ('cb_1_manchester_city', 'gael_clichy'), ('cb_1_manchester_city', 'willy_caballero'), ('nicolas_otamendi', 'john_stones'), ('nicolas_otamendi', 'lb_manchester_city'), ('nicolas_otamendi', 'gael_clichy'), ('nicolas_otamendi', 'cb_2_manchester_city'), ('nicolas_otamendi', 'gk_manchester_city'), ('nicolas_otamendi', 'willy_caballero'), ('cb_2_manchester_city', 'rb_manchester_city'), ('cb_2_manchester_city', 'bacary_sagna'), ('cb_2_manchester_city', 'gk_manchester_city'), ('cb_2_manchester_city', 'willy_caballero'), ('john_stones', 'bacary_sagna'), ('john_stones', 'rb_manchester_city'), ('john_stones', 'gk_manchester_city'), ('john_stones', 'willy_caballero'), ('gonzalo_higuain', 'juventus'), ('gonzalo_higuain', 'lm_juventus'), ('gonzalo_higuain', 'mario_mandzukic'), ('gonzalo_higuain', 'rm_juventus'), ('gonzalo_higuain', 'juan_cuadrado'), ('gonzalo_higuain', 'cam_juventus'), ('gonzalo_higuain', 'paulo_dybala'), ('juventus', 'paulo_dybala'), ('juventus', 'miralem_pjanic'), ('juventus', 'sami_khedira'), ('juventus', 'juan_cuadrado'), ('juventus', 'mario_mandzukic'), ('juventus', 'stephan_lichtsteiner'), ('juventus', 'giorgio_chiellini'), ('juventus', 'leonardo_bonucci'), ('juventus', 'alex_sandro'), ('juventus', 'gianluigi_buffon'), ('st_juventus', 'lm_juventus'), ('st_juventus', 'rm_juventus'), ('st_juventus', 'cam_juventus'), ('st_juventus', 'paulo_dybala'), ('st_juventus', 'juan_cuadrado'), ('st_juventus', 'mario_mandzukic'), ('lm_juventus', 'cam_juventus'), ('lm_juventus', 'paulo_dybala'), ('lm_juventus', 'cdm_1_juventus'), ('lm_juventus', 'sami_khedira'), ('lm_juventus', 'lb_juventus'), ('lm_juventus', 'alex_sandro'), ('mario_mandzukic', 'paulo_dybala'), ('mario_mandzukic', 'sami_khedira'), ('mario_mandzukic', 'lb_juventus'), ('mario_mandzukic', 'alex_sandro'), ('mario_mandzukic', 'cdm_1_juventus'), ('mario_mandzukic', 'cam_juventus'), ('rm_juventus', 'cam_juventus'), ('rm_juventus', 'paulo_dybala'), ('rm_juventus', 'cdm_2_juventus'), ('rm_juventus', 'miralem_pjanic'), ('rm_juventus', 'rb_juventus'), ('rm_juventus', 'stephan_lichtsteiner'), ('juan_cuadrado', 'paulo_dybala'), ('juan_cuadrado', 'miralem_pjanic'), ('juan_cuadrado', 'rb_juventus'), ('juan_cuadrado', 'stephan_lichtsteiner'), ('juan_cuadrado', 'cdm_2_juventus'), ('juan_cuadrado', 'cam_juventus'), ('cam_juventus', 'cdm_1_juventus'), ('cam_juventus', 'cdm_2_juventus'), ('cam_juventus', 'miralem_pjanic'), ('cam_juventus', 'sami_khedira'), ('paulo_dybala', 'cdm_1_juventus'), ('paulo_dybala', 'sami_khedira'), ('paulo_dybala', 'cdm_2_juventus'), ('paulo_dybala', 'miralem_pjanic'), ('cdm_1_juventus', 'cb_1_juventus'), ('cdm_1_juventus', 'rb_juventus'), ('cdm_1_juventus', 'leonardo_bonucci'), ('cdm_1_juventus', 'lb_juventus'), ('cdm_1_juventus', 'alex_sandro'), ('sami_khedira', 'cb_1_juventus'), ('sami_khedira', 'leonardo_bonucci'), ('sami_khedira', 'rb_juventus'), ('sami_khedira', 'stephan_lichtsteiner'), ('sami_khedira', 'alex_sandro'), ('cdm_2_juventus', 'cb_2_juventus'), ('cdm_2_juventus', 'lb_juventus'), ('cdm_2_juventus', 'rb_juventus'), ('cdm_2_juventus', 'stephan_lichtsteiner'), ('cdm_2_juventus', 'giorgio_chiellini'), ('miralem_pjanic', 'cb_2_juventus'), ('miralem_pjanic', 'giorgio_chiellini'), ('miralem_pjanic', 'lb_juventus'), ('miralem_pjanic', 'alex_sandro'), ('miralem_pjanic', 'stephan_lichtsteiner'), ('cb_2_juventus', 'rb_juventus'), ('cb_2_juventus', 'stephan_lichtsteiner'), ('cb_2_juventus', 'gk_juventus'), ('cb_2_juventus', 'cb_1_juventus'), ('cb_2_juventus', 'leonardo_bonucci'), ('cb_2_juventus', 'gianluigi_buffon'), ('giorgio_chiellini', 'stephan_lichtsteiner'), ('giorgio_chiellini', 'rb_juventus'), ('giorgio_chiellini', 'gk_juventus'), ('giorgio_chiellini', 'gianluigi_buffon'), ('giorgio_chiellini', 'cb_1_juventus'), ('giorgio_chiellini', 'leonardo_bonucci'), ('lb_juventus', 'cb_1_juventus'), ('lb_juventus', 'leonardo_bonucci'), ('alex_sandro', 'leonardo_bonucci'), ('alex_sandro', 'cb_1_juventus'), ('cb_1_juventus', 'gk_juventus'), ('cb_1_juventus', 'gianluigi_buffon'), ('leonardo_bonucci', 'gk_juventus'), ('leonardo_bonucci', 'gianluigi_buffon'), ('robert_lewandowski', 'fc_bayern'), ('robert_lewandowski', 'lm_fc_bayern'), ('robert_lewandowski', 'douglas_costa'), ('robert_lewandowski', 'rm_fc_bayern'), ('robert_lewandowski', 'arjen_robben'), ('robert_lewandowski', 'cam_fc_bayern'), ('robert_lewandowski', 'thomas_muller'), ('fc_bayern', 'thomas_muller'), ('fc_bayern', 'thiago'), ('fc_bayern', 'arturo_vidal'), ('fc_bayern', 'arjen_robben'), ('fc_bayern', 'douglas_costa'), ('fc_bayern', 'philipp_lahm'), ('fc_bayern', 'javi_martinez'), ('fc_bayern', 'mats_hummels'), ('fc_bayern', 'david_alaba'), ('fc_bayern', 'manuel_neuer'), ('st_fc_bayern', 'lm_fc_bayern'), ('st_fc_bayern', 'rm_fc_bayern'), ('st_fc_bayern', 'cam_fc_bayern'), ('st_fc_bayern', 'thomas_muller'), ('st_fc_bayern', 'arjen_robben'), ('st_fc_bayern', 'douglas_costa'), ('lm_fc_bayern', 'cam_fc_bayern'), ('lm_fc_bayern', 'thomas_muller'), ('lm_fc_bayern', 'cdm_1_fc_bayern'), ('lm_fc_bayern', 'arturo_vidal'), ('lm_fc_bayern', 'lb_fc_bayern'), ('lm_fc_bayern', 'david_alaba'), ('douglas_costa', 'thomas_muller'), ('douglas_costa', 'arturo_vidal'), ('douglas_costa', 'lb_fc_bayern'), ('douglas_costa', 'david_alaba'), ('douglas_costa', 'cdm_1_fc_bayern'), ('douglas_costa', 'cam_fc_bayern'), ('rm_fc_bayern', 'cam_fc_bayern'), ('rm_fc_bayern', 'thomas_muller'), ('rm_fc_bayern', 'cdm_2_fc_bayern'), ('rm_fc_bayern', 'thiago'), ('rm_fc_bayern', 'rb_fc_bayern'), ('rm_fc_bayern', 'philipp_lahm'), ('arjen_robben', 'thomas_muller'), ('arjen_robben', 'thiago'), ('arjen_robben', 'rb_fc_bayern'), ('arjen_robben', 'philipp_lahm'), ('arjen_robben', 'cdm_2_fc_bayern'), ('arjen_robben', 'cam_fc_bayern'), ('cam_fc_bayern', 'cdm_1_fc_bayern'), ('cam_fc_bayern', 'cdm_2_fc_bayern'), ('cam_fc_bayern', 'thiago'), ('cam_fc_bayern', 'arturo_vidal'), ('thomas_muller', 'cdm_1_fc_bayern'), ('thomas_muller', 'arturo_vidal'), ('thomas_muller', 'cdm_2_fc_bayern'), ('thomas_muller', 'thiago'), ('cdm_1_fc_bayern', 'cb_1_fc_bayern'), ('cdm_1_fc_bayern', 'rb_fc_bayern'), ('cdm_1_fc_bayern', 'mats_hummels'), ('cdm_1_fc_bayern', 'lb_fc_bayern'), ('cdm_1_fc_bayern', 'david_alaba'), ('arturo_vidal', 'cb_1_fc_bayern'), ('arturo_vidal', 'mats_hummels'), ('arturo_vidal', 'rb_fc_bayern'), ('arturo_vidal', 'philipp_lahm'), ('arturo_vidal', 'david_alaba'), ('cdm_2_fc_bayern', 'cb_2_fc_bayern'), ('cdm_2_fc_bayern', 'lb_fc_bayern'), ('cdm_2_fc_bayern', 'rb_fc_bayern'), ('cdm_2_fc_bayern', 'philipp_lahm'), ('cdm_2_fc_bayern', 'javi_martinez'), ('thiago', 'cb_2_fc_bayern'), ('thiago', 'javi_martinez'), ('thiago', 'lb_fc_bayern'), ('thiago', 'david_alaba'), ('thiago', 'philipp_lahm'), ('cb_2_fc_bayern', 'rb_fc_bayern'), ('cb_2_fc_bayern', 'philipp_lahm'), ('cb_2_fc_bayern', 'gk_fc_bayern'), ('cb_2_fc_bayern', 'cb_1_fc_bayern'), ('cb_2_fc_bayern', 'mats_hummels'), ('cb_2_fc_bayern', 'manuel_neuer'), ('javi_martinez', 'philipp_lahm'), ('javi_martinez', 'rb_fc_bayern'), ('javi_martinez', 'gk_fc_bayern'), ('javi_martinez', 'manuel_neuer'), ('javi_martinez', 'cb_1_fc_bayern'), ('javi_martinez', 'mats_hummels'), ('lb_fc_bayern', 'cb_1_fc_bayern'), ('lb_fc_bayern', 'mats_hummels'), ('david_alaba', 'mats_hummels'), ('david_alaba', 'cb_1_fc_bayern'), ('cb_1_fc_bayern', 'gk_fc_bayern'), ('cb_1_fc_bayern', 'manuel_neuer'), ('mats_hummels', 'gk_fc_bayern'), ('mats_hummels', 'manuel_neuer'), ('dries_mertens', 'napoli'), ('dries_mertens', 'cm_2_napoli'), ('dries_mertens', 'marek_hamsik'), ('dries_mertens', 'lw_napoli'), ('dries_mertens', 'lorenzo_insigne'), ('dries_mertens', 'rw_napoli'), ('dries_mertens', 'jose_callejon'), ('napoli', 'jose_callejon'), ('napoli', 'lorenzo_insigne'), ('napoli', 'marek_hamsik'), ('napoli', 'piotr_zielinski'), ('napoli', 'amadou_diawara'), ('napoli', 'elseid_hysaj'), ('napoli', 'raul_albiol'), ('napoli', 'kalidou_koulibaly'), ('napoli', 'faouzi_ghoulam'), ('napoli', 'jose_reina'), ('st_napoli', 'cm_2_napoli'), ('st_napoli', 'lw_napoli'), ('st_napoli', 'rw_napoli'), ('st_napoli', 'jose_callejon'), ('st_napoli', 'lorenzo_insigne'), ('st_napoli', 'marek_hamsik'), ('cm_2_napoli', 'cm_1_napoli'), ('cm_2_napoli', 'cm_3_napoli'), ('cm_2_napoli', 'cb_1_napoli'), ('cm_2_napoli', 'cb_2_napoli'), ('cm_2_napoli', 'piotr_zielinski'), ('cm_2_napoli', 'amadou_diawara'), ('cm_2_napoli', 'raul_albiol'), ('cm_2_napoli', 'kalidou_koulibaly'), ('marek_hamsik', 'cm_1_napoli'), ('marek_hamsik', 'amadou_diawara'), ('marek_hamsik', 'cm_3_napoli'), ('marek_hamsik', 'piotr_zielinski'), ('marek_hamsik', 'cb_1_napoli'), ('marek_hamsik', 'kalidou_koulibaly'), ('marek_hamsik', 'cb_2_napoli'), ('marek_hamsik', 'raul_albiol'), ('lw_napoli', 'cm_1_napoli'), ('lw_napoli', 'amadou_diawara'), ('lorenzo_insigne', 'cm_1_napoli'), ('lorenzo_insigne', 'amadou_diawara'), ('rw_napoli', 'cm_3_napoli'), ('rw_napoli', 'piotr_zielinski'), ('jose_callejon', 'cm_3_napoli'), ('jose_callejon', 'piotr_zielinski'), ('cm_3_napoli', 'rb_napoli'), ('cm_3_napoli', 'elseid_hysaj'), ('piotr_zielinski', 'rb_napoli'), ('piotr_zielinski', 'elseid_hysaj'), ('cm_1_napoli', 'lb_napoli'), ('cm_1_napoli', 'faouzi_ghoulam'), ('amadou_diawara', 'lb_napoli'), ('amadou_diawara', 'faouzi_ghoulam'), ('cb_1_napoli', 'cb_2_napoli'), ('cb_1_napoli', 'raul_albiol'), ('cb_1_napoli', 'lb_napoli'), ('cb_1_napoli', 'gk_napoli'), ('cb_1_napoli', 'faouzi_ghoulam'), ('cb_1_napoli', 'jose_reina'), ('kalidou_koulibaly', 'raul_albiol'), ('kalidou_koulibaly', 'lb_napoli'), ('kalidou_koulibaly', 'faouzi_ghoulam'), ('kalidou_koulibaly', 'cb_2_napoli'), ('kalidou_koulibaly', 'gk_napoli'), ('kalidou_koulibaly', 'jose_reina'), ('cb_2_napoli', 'rb_napoli'), ('cb_2_napoli', 'elseid_hysaj'), ('cb_2_napoli', 'gk_napoli'), ('cb_2_napoli', 'jose_reina'), ('raul_albiol', 'elseid_hysaj'), ('raul_albiol', 'rb_napoli'), ('raul_albiol', 'gk_napoli'), ('raul_albiol', 'jose_reina')]\n"
     ]
    }
   ],
   "source": [
    "all_edges = []\n",
    "for edge in graph.edges:\n",
    "    all_edges.append(edge)\n",
    "\n",
    "print(all_edges)"
   ]
  },
  {
   "cell_type": "code",
   "execution_count": null,
   "metadata": {},
   "outputs": [],
   "source": []
  },
  {
   "cell_type": "code",
   "execution_count": 39,
   "metadata": {},
   "outputs": [
    {
     "name": "stderr",
     "output_type": "stream",
     "text": [
      "Computing transition probabilities: 100%|██████████| 161/161 [00:00<00:00, 4076.88it/s]\n"
     ]
    }
   ],
   "source": [
    "node2vec = Node2Vec(graph, dimensions=20, walk_length=16, num_walks=100, workers=2)"
   ]
  },
  {
   "cell_type": "code",
   "execution_count": 41,
   "metadata": {},
   "outputs": [
    {
     "data": {
      "text/plain": [
       "16100"
      ]
     },
     "execution_count": 41,
     "metadata": {},
     "output_type": "execute_result"
    }
   ],
   "source": [
    "len(node2vec.walks)"
   ]
  },
  {
   "cell_type": "code",
   "execution_count": 49,
   "metadata": {},
   "outputs": [],
   "source": [
    "fix_formatted_positions = lambda x: x.split('_')[0] if x in formatted_positions else x\n",
    "reformatted_walks = [list(map(fix_formatted_positions, walk)) for walk in node2vec.walks]\n",
    "node2vec.walks = reformatted_walks"
   ]
  },
  {
   "cell_type": "code",
   "execution_count": 50,
   "metadata": {},
   "outputs": [
    {
     "data": {
      "text/plain": [
       "[['de_gea',\n",
       "  'cb',\n",
       "  'eric_bailly',\n",
       "  'chris_smalling',\n",
       "  'cb',\n",
       "  'michael_carrick',\n",
       "  'ander_herrera',\n",
       "  'michael_carrick',\n",
       "  'manchester_utd',\n",
       "  'michael_carrick',\n",
       "  'paul_pogba',\n",
       "  'st',\n",
       "  'cm',\n",
       "  'cdm',\n",
       "  'chris_smalling',\n",
       "  'manchester_utd']]"
      ]
     },
     "execution_count": 50,
     "metadata": {},
     "output_type": "execute_result"
    }
   ],
   "source": [
    "reformatted_walks[0:1]"
   ]
  },
  {
   "cell_type": "code",
   "execution_count": 51,
   "metadata": {},
   "outputs": [],
   "source": [
    "model = node2vec.fit(window=10, min_count=1,ver)"
   ]
  },
  {
   "cell_type": "code",
   "execution_count": 80,
   "metadata": {},
   "outputs": [
    {
     "data": {
      "text/plain": [
       "(defaultdict(int, {}), 2)"
      ]
     },
     "execution_count": 80,
     "metadata": {},
     "output_type": "execute_result"
    }
   ],
   "source": [
    "model.vocabulary.raw_vocab,model.workers\n"
   ]
  },
  {
   "cell_type": "markdown",
   "metadata": {},
   "source": [
    "#### Find Similar Nodes"
   ]
  },
  {
   "cell_type": "code",
   "execution_count": 78,
   "metadata": {},
   "outputs": [
    {
     "name": "stdout",
     "output_type": "stream",
     "text": [
      "willy_caballero 0.9514381289482117\n",
      "yaya_toure 0.948427677154541\n",
      "nicolas_otamendi 0.9372456073760986\n",
      "bacary_sagna 0.9282606840133667\n",
      "manchester_city 0.8929667472839355\n",
      "gael_clichy 0.8681881427764893\n",
      "kevin_de_bruyne 0.8189698457717896\n",
      "raheem_sterling 0.7602306604385376\n",
      "david_silva 0.7549924850463867\n",
      "sergio_aguero 0.740198016166687\n"
     ]
    }
   ],
   "source": [
    "for node, _ in model.most_similar('john_stones'):\n",
    "    # Show only players\n",
    "    if len(node) > 3:\n",
    "        print(node,_)"
   ]
  },
  {
   "cell_type": "code",
   "execution_count": 81,
   "metadata": {},
   "outputs": [
    {
     "name": "stdout",
     "output_type": "stream",
     "text": [
      "keylor_navas\n",
      "de_gea\n",
      "thibaut_courtois\n",
      "david_luiz\n",
      "gary_cahill\n",
      "manuel_neuer\n",
      "willy_caballero\n"
     ]
    }
   ],
   "source": [
    "for node, _ in model.most_similar('gk'):\n",
    "    # Show only players\n",
    "    if len(node) > 3:\n",
    "        print(node)"
   ]
  },
  {
   "cell_type": "code",
   "execution_count": 85,
   "metadata": {},
   "outputs": [
    {
     "data": {
      "text/plain": [
       "{'de_gea': <gensim.models.keyedvectors.Vocab at 0x7f11a12297b8>,\n",
       " 'cb': <gensim.models.keyedvectors.Vocab at 0x7f11a12292e8>,\n",
       " 'eric_bailly': <gensim.models.keyedvectors.Vocab at 0x7f11a1229198>,\n",
       " 'chris_smalling': <gensim.models.keyedvectors.Vocab at 0x7f11a12299e8>,\n",
       " 'michael_carrick': <gensim.models.keyedvectors.Vocab at 0x7f11a1229d68>,\n",
       " 'ander_herrera': <gensim.models.keyedvectors.Vocab at 0x7f11a12296d8>,\n",
       " 'manchester_utd': <gensim.models.keyedvectors.Vocab at 0x7f11a1229ba8>,\n",
       " 'paul_pogba': <gensim.models.keyedvectors.Vocab at 0x7f11a1229588>,\n",
       " 'st': <gensim.models.keyedvectors.Vocab at 0x7f11a1229898>,\n",
       " 'cm': <gensim.models.keyedvectors.Vocab at 0x7f11a1229780>,\n",
       " 'cdm': <gensim.models.keyedvectors.Vocab at 0x7f11a1229748>,\n",
       " 'cristiano_ronaldo': <gensim.models.keyedvectors.Vocab at 0x7f11a12297f0>,\n",
       " 'karim_benzema': <gensim.models.keyedvectors.Vocab at 0x7f11a1229550>,\n",
       " 'lw': <gensim.models.keyedvectors.Vocab at 0x7f11a1229cc0>,\n",
       " 'luka_modric': <gensim.models.keyedvectors.Vocab at 0x7f11a12294e0>,\n",
       " 'cam': <gensim.models.keyedvectors.Vocab at 0x7f11a08cc438>,\n",
       " 'toni_kroos': <gensim.models.keyedvectors.Vocab at 0x7f11a08cc4e0>,\n",
       " 'rb': <gensim.models.keyedvectors.Vocab at 0x7f11a08cc400>,\n",
       " 'rw': <gensim.models.keyedvectors.Vocab at 0x7f11a08cc3c8>,\n",
       " 'real_madrid': <gensim.models.keyedvectors.Vocab at 0x7f11a08cc4a8>,\n",
       " 'gareth_bale': <gensim.models.keyedvectors.Vocab at 0x7f11a08cc470>,\n",
       " 'lorenzo_insigne': <gensim.models.keyedvectors.Vocab at 0x7f11a08cc518>,\n",
       " 'marek_hamsik': <gensim.models.keyedvectors.Vocab at 0x7f11a08cc550>,\n",
       " 'amadou_diawara': <gensim.models.keyedvectors.Vocab at 0x7f11a08cc588>,\n",
       " 'piotr_zielinski': <gensim.models.keyedvectors.Vocab at 0x7f11a08cc5c0>,\n",
       " 'napoli': <gensim.models.keyedvectors.Vocab at 0x7f11a08cc5f8>,\n",
       " 'manchester_city': <gensim.models.keyedvectors.Vocab at 0x7f11a08cc630>,\n",
       " 'yaya_toure': <gensim.models.keyedvectors.Vocab at 0x7f11a08cc668>,\n",
       " 'david_silva': <gensim.models.keyedvectors.Vocab at 0x7f11a08cc6a0>,\n",
       " 'sergio_aguero': <gensim.models.keyedvectors.Vocab at 0x7f11a08cc6d8>,\n",
       " 'kevin_de_bruyne': <gensim.models.keyedvectors.Vocab at 0x7f11a08cc710>,\n",
       " 'philipp_lahm': <gensim.models.keyedvectors.Vocab at 0x7f11a08cc748>,\n",
       " 'gk': <gensim.models.keyedvectors.Vocab at 0x7f11a08cc780>,\n",
       " 'rm': <gensim.models.keyedvectors.Vocab at 0x7f11a08cc7b8>,\n",
       " 'thiago': <gensim.models.keyedvectors.Vocab at 0x7f11a08cc7f0>,\n",
       " 'lb': <gensim.models.keyedvectors.Vocab at 0x7f11a08cc828>,\n",
       " 'thomas_muller': <gensim.models.keyedvectors.Vocab at 0x7f11a08cc860>,\n",
       " 'miralem_pjanic': <gensim.models.keyedvectors.Vocab at 0x7f11a08cc898>,\n",
       " 'juan_cuadrado': <gensim.models.keyedvectors.Vocab at 0x7f11a08cc8d0>,\n",
       " 'gonzalo_higuain': <gensim.models.keyedvectors.Vocab at 0x7f11a08cc908>,\n",
       " 'mario_mandzukic': <gensim.models.keyedvectors.Vocab at 0x7f11a08cc940>,\n",
       " 'juventus': <gensim.models.keyedvectors.Vocab at 0x7f11a08cc978>,\n",
       " 'alex_sandro': <gensim.models.keyedvectors.Vocab at 0x7f11a08cc9b0>,\n",
       " 'david_alaba': <gensim.models.keyedvectors.Vocab at 0x7f11a08cc9e8>,\n",
       " 'mats_hummels': <gensim.models.keyedvectors.Vocab at 0x7f11a08cca20>,\n",
       " 'arturo_vidal': <gensim.models.keyedvectors.Vocab at 0x7f11a08cca58>,\n",
       " 'fc_bayern': <gensim.models.keyedvectors.Vocab at 0x7f11a08cca90>,\n",
       " 'douglas_costa': <gensim.models.keyedvectors.Vocab at 0x7f11a08ccac8>,\n",
       " 'robert_lewandowski': <gensim.models.keyedvectors.Vocab at 0x7f11a08ccb00>,\n",
       " 'arjen_robben': <gensim.models.keyedvectors.Vocab at 0x7f11a08ccb38>,\n",
       " 'chelsea': <gensim.models.keyedvectors.Vocab at 0x7f11a08ccb70>,\n",
       " 'nemanja_matic': <gensim.models.keyedvectors.Vocab at 0x7f11a08ccba8>,\n",
       " 'marcos_alonso': <gensim.models.keyedvectors.Vocab at 0x7f11a08ccbe0>,\n",
       " 'azpilicueta': <gensim.models.keyedvectors.Vocab at 0x7f11a08ccc18>,\n",
       " 'david_luiz': <gensim.models.keyedvectors.Vocab at 0x7f11a08ccc50>,\n",
       " 'victor_moses': <gensim.models.keyedvectors.Vocab at 0x7f11a08ccc88>,\n",
       " 'diego_costa': <gensim.models.keyedvectors.Vocab at 0x7f11a08cccc0>,\n",
       " 'jose_callejon': <gensim.models.keyedvectors.Vocab at 0x7f11a08cccf8>,\n",
       " 'dries_mertens': <gensim.models.keyedvectors.Vocab at 0x7f11a08ccd30>,\n",
       " 'manuel_neuer': <gensim.models.keyedvectors.Vocab at 0x7f11a08ccd68>,\n",
       " 'javi_martinez': <gensim.models.keyedvectors.Vocab at 0x7f11a08ccda0>,\n",
       " 'lm': <gensim.models.keyedvectors.Vocab at 0x7f11a08ccdd8>,\n",
       " 'jose_reina': <gensim.models.keyedvectors.Vocab at 0x7f11a08cce10>,\n",
       " 'raul_albiol': <gensim.models.keyedvectors.Vocab at 0x7f11a08cce48>,\n",
       " 'elseid_hysaj': <gensim.models.keyedvectors.Vocab at 0x7f11a08cce80>,\n",
       " 'kalidou_koulibaly': <gensim.models.keyedvectors.Vocab at 0x7f11a08cceb8>,\n",
       " 'paulo_dybala': <gensim.models.keyedvectors.Vocab at 0x7f11a08ccef0>,\n",
       " 'stephan_lichtsteiner': <gensim.models.keyedvectors.Vocab at 0x7f11a08ccf28>,\n",
       " 'rwb': <gensim.models.keyedvectors.Vocab at 0x7f11a08ccf60>,\n",
       " 'pedro': <gensim.models.keyedvectors.Vocab at 0x7f11a08ccf98>,\n",
       " \"n'golo_kante\": <gensim.models.keyedvectors.Vocab at 0x7f11a08ccfd0>,\n",
       " 'james_rodriguez': <gensim.models.keyedvectors.Vocab at 0x7f11a08ad048>,\n",
       " 'pepe': <gensim.models.keyedvectors.Vocab at 0x7f11a08ad080>,\n",
       " 'carvajal': <gensim.models.keyedvectors.Vocab at 0x7f11a08ad0b8>,\n",
       " 'sergio_ramos': <gensim.models.keyedvectors.Vocab at 0x7f11a08ad0f0>,\n",
       " 'marcelo': <gensim.models.keyedvectors.Vocab at 0x7f11a08ad128>,\n",
       " 'gael_clichy': <gensim.models.keyedvectors.Vocab at 0x7f11a08ad160>,\n",
       " 'nicolas_otamendi': <gensim.models.keyedvectors.Vocab at 0x7f11a08ad198>,\n",
       " 'willy_caballero': <gensim.models.keyedvectors.Vocab at 0x7f11a08ad1d0>,\n",
       " 'bacary_sagna': <gensim.models.keyedvectors.Vocab at 0x7f11a08ad208>,\n",
       " 'eden_hazard': <gensim.models.keyedvectors.Vocab at 0x7f11a08ad240>,\n",
       " 'lwb': <gensim.models.keyedvectors.Vocab at 0x7f11a08ad278>,\n",
       " 'henrikh_mkhitaryan': <gensim.models.keyedvectors.Vocab at 0x7f11a08ad2b0>,\n",
       " 'zlatan_ibrahimovic': <gensim.models.keyedvectors.Vocab at 0x7f11a08ad2e8>,\n",
       " 'anthony_martial': <gensim.models.keyedvectors.Vocab at 0x7f11a08ad320>,\n",
       " 'raheem_sterling': <gensim.models.keyedvectors.Vocab at 0x7f11a08ad358>,\n",
       " 'john_stones': <gensim.models.keyedvectors.Vocab at 0x7f11a08ad390>,\n",
       " 'keylor_navas': <gensim.models.keyedvectors.Vocab at 0x7f11a08ad3c8>,\n",
       " 'gary_cahill': <gensim.models.keyedvectors.Vocab at 0x7f11a08ad400>,\n",
       " 'giorgio_chiellini': <gensim.models.keyedvectors.Vocab at 0x7f11a08ad438>,\n",
       " 'leroy_sane': <gensim.models.keyedvectors.Vocab at 0x7f11a08ad470>,\n",
       " 'antonio_valencia': <gensim.models.keyedvectors.Vocab at 0x7f11a08ad4a8>,\n",
       " 'sami_khedira': <gensim.models.keyedvectors.Vocab at 0x7f11a08ad4e0>,\n",
       " 'thibaut_courtois': <gensim.models.keyedvectors.Vocab at 0x7f11a08ad518>,\n",
       " 'daley_blind': <gensim.models.keyedvectors.Vocab at 0x7f11a08ad550>,\n",
       " 'leonardo_bonucci': <gensim.models.keyedvectors.Vocab at 0x7f11a08ad588>,\n",
       " 'gianluigi_buffon': <gensim.models.keyedvectors.Vocab at 0x7f11a08ad5c0>,\n",
       " 'faouzi_ghoulam': <gensim.models.keyedvectors.Vocab at 0x7f11a08ad5f8>}"
      ]
     },
     "execution_count": 85,
     "metadata": {},
     "output_type": "execute_result"
    }
   ],
   "source": [
    "model.wv.vocab"
   ]
  },
  {
   "cell_type": "code",
   "execution_count": 84,
   "metadata": {},
   "outputs": [
    {
     "data": {
      "text/plain": [
       "{'chelsea',\n",
       " 'fc_bayern',\n",
       " 'juventus',\n",
       " 'manchester_city',\n",
       " 'manchester_utd',\n",
       " 'napoli',\n",
       " 'real_madrid'}"
      ]
     },
     "execution_count": 84,
     "metadata": {},
     "output_type": "execute_result"
    }
   ],
   "source": [
    "clubs"
   ]
  },
  {
   "cell_type": "code",
   "execution_count": 104,
   "metadata": {},
   "outputs": [],
   "source": [
    "player_nodes = [x for x in model.wv.vocab if len(x) > 3 and x not in clubs]\n",
    "embeddings = np.array([model.wv[x] for x in player_nodes])"
   ]
  },
  {
   "cell_type": "code",
   "execution_count": 105,
   "metadata": {},
   "outputs": [
    {
     "data": {
      "text/plain": [
       "77"
      ]
     },
     "execution_count": 105,
     "metadata": {},
     "output_type": "execute_result"
    }
   ],
   "source": [
    "len(player_nodes)"
   ]
  },
  {
   "cell_type": "code",
   "execution_count": 93,
   "metadata": {},
   "outputs": [
    {
     "data": {
      "text/plain": [
       "(77, 20)"
      ]
     },
     "execution_count": 93,
     "metadata": {},
     "output_type": "execute_result"
    }
   ],
   "source": [
    "embeddings.shape"
   ]
  },
  {
   "cell_type": "markdown",
   "metadata": {},
   "source": [
    "#### Embedding Visulaization"
   ]
  },
  {
   "cell_type": "code",
   "execution_count": 94,
   "metadata": {},
   "outputs": [
    {
     "data": {
      "text/plain": [
       "(77, 2)"
      ]
     },
     "execution_count": 94,
     "metadata": {},
     "output_type": "execute_result"
    }
   ],
   "source": [
    "tsne = TSNE(n_components=2, random_state=7, perplexity=15)\n",
    "embeddings_2d = tsne.fit_transform(embeddings)\n",
    "embeddings_2d.shape"
   ]
  },
  {
   "cell_type": "code",
   "execution_count": 90,
   "metadata": {},
   "outputs": [],
   "source": [
    "# Assign colors to players\n",
    "team_colors = {\n",
    "    'real_madrid': 'lightblue',\n",
    "    'chelsea': 'b',\n",
    "    'manchester_utd': 'r',\n",
    "    'manchester_city': 'teal',\n",
    "    'juventus': 'gainsboro',\n",
    "    'napoli': 'deepskyblue',\n",
    "    'fc_bayern': 'tomato' \n",
    "}\n",
    "\n",
    "data['color'] = data['club'].apply(lambda x: team_colors[x])\n",
    "player_colors = dict(zip(data['name'], data['color']))\n",
    "colors = [player_colors[x] for x in player_nodes]"
   ]
  },
  {
   "cell_type": "code",
   "execution_count": 97,
   "metadata": {},
   "outputs": [
    {
     "data": {
      "image/png": "[encoded data removed]",
      "text/plain": [
       "<Figure size 792x864 with 1 Axes>"
      ]
     },
     "metadata": {
      "needs_background": "light"
     },
     "output_type": "display_data"
    }
   ],
   "source": [
    "figure = plt.figure(figsize=(11, 12))\n",
    "\n",
    "ax = figure.add_subplot(111)\n",
    "\n",
    "ax.scatter(embeddings_2d[:, 0], embeddings_2d[:, 1], c=colors)\n",
    "\n",
    "# Create team patches for legend\n",
    "team_patches = [mpatches.Patch(color=color, label=team) for team, color in team_colors.items()]\n",
    "ax.legend(handles=team_patches);"
   ]
  },
  {
   "cell_type": "code",
   "execution_count": null,
   "metadata": {},
   "outputs": [],
   "source": []
  }
 ],
 "metadata": {
  "kernelspec": {
   "display_name": "Python 3",
   "language": "python",
   "name": "python3"
  },
  "language_info": {
   "codemirror_mode": {
    "name": "ipython",
    "version": 3
   },
   "file_extension": ".py",
   "mimetype": "text/x-python",
   "name": "python",
   "nbconvert_exporter": "python",
   "pygments_lexer": "ipython3",
   "version": "3.6.8"
  }
 },
 "nbformat": 4,
 "nbformat_minor": 2
}
